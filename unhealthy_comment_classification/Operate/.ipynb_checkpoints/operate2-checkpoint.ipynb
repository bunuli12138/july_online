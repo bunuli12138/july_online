{
 "cells": [
  {
   "cell_type": "markdown",
   "metadata": {},
   "source": [
    "## 导入数据集\n",
    "train： \n",
    "- 英文文本+6种该评论不健康类型的概率\n",
    "- 当前评论属于那种分类，则label为1，可同时多个为1\n",
    "\n",
    "提交格式：   \n",
    "\n",
    "| id | toxic | severe_toxic | obscene | threat | threat | insult | identity_hate |    \n",
    "| --- | --- |  --- | --- |  --- | --- |  --- |  --- |"
   ]
  },
  {
   "cell_type": "code",
   "execution_count": 1,
   "metadata": {},
   "outputs": [
    {
     "name": "stderr",
     "output_type": "stream",
     "text": [
      "Using TensorFlow backend.\n"
     ]
    }
   ],
   "source": [
    "import pandas as pd\n",
    "import numpy as np\n",
    "\n",
    "import nltk\n",
    "from nltk.tokenize import wordpunct_tokenize                               # 分词\n",
    "\n",
    "# 可视化\n",
    "import matplotlib.pyplot as plt                \n",
    "import seaborn as sns\n",
    "\n",
    "\n",
    "from keras.models import Sequential# , Model                               # CNN初始化\n",
    "from keras.layers import Dense, Dropout, Activation, Flatten, Input        # CNN网络层，Dense net 等\n",
    "from keras.layers.convolutional import Conv2D, MaxPooling2D                # 卷积操作，池化操作\n",
    "from keras.applications.vgg16 import VGG16, preprocess_input               # VGG16 模型、输入预处理\n",
    "\n",
    "\n",
    "from keras.optimizers import SGD                                           # 优化器SGD操作\n",
    "from keras.optimizers import RMSprop, Adam                                 # 优化算法RMSprop，Adam\n",
    "\n",
    "\n",
    "from keras.preprocessing.image import ImageDataGenerator                   # 图像矩阵转换\n",
    "from keras.preprocessing import image                                      # 图像处理操作\n",
    "\n",
    "\n",
    "from sklearn.model_selection import train_test_split                       # 数据集划分\n",
    "\n",
    "%matplotlib inline\n",
    "\n",
    "# tensorflow环境\n",
    "import tensorflow as tf\n",
    "from keras.backend.tensorflow_backend import set_session\n",
    "config = tf.ConfigProto()\n",
    "config.gpu_options.allow_growth=True\n",
    "set_session(tf.Session(config=config))"
   ]
  },
  {
   "cell_type": "code",
   "execution_count": 2,
   "metadata": {},
   "outputs": [
    {
     "data": {
      "text/html": [
       "<div>\n",
       "<style scoped>\n",
       "    .dataframe tbody tr th:only-of-type {\n",
       "        vertical-align: middle;\n",
       "    }\n",
       "\n",
       "    .dataframe tbody tr th {\n",
       "        vertical-align: top;\n",
       "    }\n",
       "\n",
       "    .dataframe thead th {\n",
       "        text-align: right;\n",
       "    }\n",
       "</style>\n",
       "<table border=\"1\" class=\"dataframe\">\n",
       "  <thead>\n",
       "    <tr style=\"text-align: right;\">\n",
       "      <th></th>\n",
       "      <th>id</th>\n",
       "      <th>comment_text</th>\n",
       "      <th>toxic</th>\n",
       "      <th>severe_toxic</th>\n",
       "      <th>obscene</th>\n",
       "      <th>threat</th>\n",
       "      <th>insult</th>\n",
       "      <th>identity_hate</th>\n",
       "    </tr>\n",
       "  </thead>\n",
       "  <tbody>\n",
       "    <tr>\n",
       "      <th>143611</th>\n",
       "      <td>0c7f3197cb2998d4</td>\n",
       "      <td>Hello Cindamuse,\\n\\n1. Please review/edit the ...</td>\n",
       "      <td>0</td>\n",
       "      <td>0</td>\n",
       "      <td>0</td>\n",
       "      <td>0</td>\n",
       "      <td>0</td>\n",
       "      <td>0</td>\n",
       "    </tr>\n",
       "    <tr>\n",
       "      <th>143612</th>\n",
       "      <td>6de99309da264aee</td>\n",
       "      <td>I've restored the links to the specific subjec...</td>\n",
       "      <td>0</td>\n",
       "      <td>0</td>\n",
       "      <td>0</td>\n",
       "      <td>0</td>\n",
       "      <td>0</td>\n",
       "      <td>0</td>\n",
       "    </tr>\n",
       "    <tr>\n",
       "      <th>143613</th>\n",
       "      <td>7390c4a88a58f72f</td>\n",
       "      <td>\"\\n\\n An-cap FAQ \\n\\nWhen making a list of ana...</td>\n",
       "      <td>0</td>\n",
       "      <td>0</td>\n",
       "      <td>0</td>\n",
       "      <td>0</td>\n",
       "      <td>0</td>\n",
       "      <td>0</td>\n",
       "    </tr>\n",
       "  </tbody>\n",
       "</table>\n",
       "</div>"
      ],
      "text/plain": [
       "                      id                                       comment_text  \\\n",
       "143611  0c7f3197cb2998d4  Hello Cindamuse,\\n\\n1. Please review/edit the ...   \n",
       "143612  6de99309da264aee  I've restored the links to the specific subjec...   \n",
       "143613  7390c4a88a58f72f  \"\\n\\n An-cap FAQ \\n\\nWhen making a list of ana...   \n",
       "\n",
       "        toxic  severe_toxic  obscene  threat  insult  identity_hate  \n",
       "143611      0             0        0       0       0              0  \n",
       "143612      0             0        0       0       0              0  \n",
       "143613      0             0        0       0       0              0  "
      ]
     },
     "execution_count": 2,
     "metadata": {},
     "output_type": "execute_result"
    }
   ],
   "source": [
    "df_trainOrg = pd.read_csv('../Data/train_july.csv')\n",
    "df_trainOrg.tail(3)"
   ]
  },
  {
   "cell_type": "code",
   "execution_count": null,
   "metadata": {},
   "outputs": [],
   "source": []
  }
 ],
 "metadata": {
  "kernelspec": {
   "display_name": "Python 3",
   "language": "python",
   "name": "python3"
  },
  "language_info": {
   "codemirror_mode": {
    "name": "ipython",
    "version": 3
   },
   "file_extension": ".py",
   "mimetype": "text/x-python",
   "name": "python",
   "nbconvert_exporter": "python",
   "pygments_lexer": "ipython3",
   "version": "3.7.1"
  },
  "toc": {
   "base_numbering": 1,
   "nav_menu": {},
   "number_sections": true,
   "sideBar": true,
   "skip_h1_title": false,
   "title_cell": "Table of Contents",
   "title_sidebar": "Contents",
   "toc_cell": false,
   "toc_position": {},
   "toc_section_display": true,
   "toc_window_display": true
  }
 },
 "nbformat": 4,
 "nbformat_minor": 2
}
